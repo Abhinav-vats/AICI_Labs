{
  "nbformat": 4,
  "nbformat_minor": 0,
  "metadata": {
    "colab": {
      "provenance": [],
      "authorship_tag": "ABX9TyM170OjQC6wb/DQOm7j3rZE",
      "include_colab_link": true
    },
    "kernelspec": {
      "name": "python3",
      "display_name": "Python 3"
    },
    "language_info": {
      "name": "python"
    }
  },
  "cells": [
    {
      "cell_type": "markdown",
      "metadata": {
        "id": "view-in-github",
        "colab_type": "text"
      },
      "source": [
        "<a href=\"https://colab.research.google.com/github/Abhinav-vats/AICI_Labs/blob/master/Uninformed_Search.ipynb\" target=\"_parent\"><img src=\"https://colab.research.google.com/assets/colab-badge.svg\" alt=\"Open In Colab\"/></a>"
      ]
    },
    {
      "cell_type": "markdown",
      "source": [
        "# DFS - Depth First Search\n"
      ],
      "metadata": {
        "id": "ku5TyyrRFdkN"
      }
    },
    {
      "cell_type": "code",
      "source": [
        "from collections import deque"
      ],
      "metadata": {
        "id": "UHQmdxCVFh27"
      },
      "execution_count": 1,
      "outputs": []
    },
    {
      "cell_type": "code",
      "source": [
        "ROW = 4\n",
        "COL = 4"
      ],
      "metadata": {
        "id": "yar4ch5TGCAY"
      },
      "execution_count": 17,
      "outputs": []
    },
    {
      "cell_type": "code",
      "source": [
        "class Point:\n",
        "  def __init__(self, x:int, y:int):\n",
        "    self.x = x\n",
        "    self.y = y"
      ],
      "metadata": {
        "id": "PcbZSY9wGJGR"
      },
      "execution_count": 18,
      "outputs": []
    },
    {
      "cell_type": "code",
      "source": [
        "class queueNode:\n",
        "  def __init__(self, pt:Point, dist:int):\n",
        "    self.pt = pt\n",
        "    self.dist = dist\n",
        ""
      ],
      "metadata": {
        "id": "QXL_RrVvHMgP"
      },
      "execution_count": 19,
      "outputs": []
    },
    {
      "cell_type": "code",
      "source": [
        "def isValid(row:int, col:int):\n",
        "  return (row>=0) and (row<ROW) and (col>=0) and (col<COL)"
      ],
      "metadata": {
        "id": "BM7ic56AHY8l"
      },
      "execution_count": 20,
      "outputs": []
    },
    {
      "cell_type": "code",
      "source": [
        "# number given to go to the adjacent cells\n",
        "rowNum = [-1, 0,0,1]\n",
        "colNum = [0,-1, 1,0]\n",
        "#       up, left, right , down"
      ],
      "metadata": {
        "id": "lQGXCZIYIRGi"
      },
      "execution_count": 21,
      "outputs": []
    },
    {
      "cell_type": "code",
      "source": [],
      "metadata": {
        "id": "XOl39MNWJavh"
      },
      "execution_count": 21,
      "outputs": []
    },
    {
      "cell_type": "code",
      "source": [
        "def shortestPathInMazeDFS(maze, src, dest):\n",
        "  nrow = len(maze)\n",
        "  ncol = len(maze[0])\n",
        "  val = DFS(maze, src, dest, nrow, ncol)\n",
        "  return val"
      ],
      "metadata": {
        "id": "2whs7MLneOzn"
      },
      "execution_count": 22,
      "outputs": []
    },
    {
      "cell_type": "code",
      "source": [
        "def DFS(maze, src: Point, dest: Point, nrow:int, ncol:int):\n",
        "  visited = [] # [[False for i in range(COL)] for j in range(ROW)]\n",
        "  if maze[src.x][src.y]!=1 or maze[dest.x][dest.y]!=1:\n",
        "    return -1\n",
        "\n",
        "  for i in range(len(maze)):\n",
        "    visited.append([False]*len(maze[i]))\n",
        "\n",
        "  # visited[src.x][src.y] = True\n",
        "  stack = []*(nrow*ncol)\n",
        "  stack.append(queueNode(src, 0))\n",
        "\n",
        "  while len(stack)!=0:\n",
        "    current = stack.pop()\n",
        "    point = current.pt\n",
        "\n",
        "    visited[point.x][point.y] = True\n",
        "    print(\"Goal Test on Node : \"+str(point.x)+\",\"+str(point.y))\n",
        "\n",
        "    if point.x == dest.x and point.y == dest.y:\n",
        "      return current\n",
        "\n",
        "    for i in range(0, 4):\n",
        "      arow = point.x + rowNum[i]\n",
        "      acol = point.y + colNum[i]\n",
        "      if isValid(arow, acol) and maze[arow][acol]!=0 and visited[arow][acol] is False:\n",
        "        newNode = queueNode(Point(arow, acol), current.dist+1)\n",
        "        stack.append(newNode)\n",
        "\n",
        "  return -4"
      ],
      "metadata": {
        "id": "GvfW0uVPJxPG"
      },
      "execution_count": 23,
      "outputs": []
    },
    {
      "cell_type": "markdown",
      "source": [
        "# BFS - Breadth First Search"
      ],
      "metadata": {
        "id": "tmR2ymgQcE65"
      }
    },
    {
      "cell_type": "code",
      "source": [
        "def BFS(maze, src: Point, dest: Point):\n",
        "  if maze[src.x][src.y]!=1 or maze[dest.x][dest.y]!=1:\n",
        "    return -1\n",
        "\n",
        "  visited = [[False for i in range(COL)] for j in range(ROW)]\n",
        "\n",
        "  visited[src.x][src.y] = True\n",
        "\n",
        "  q = deque()\n",
        "  s = queueNode(src, 0)\n",
        "\n",
        "  q.append(s)\n",
        "\n",
        "  while q:\n",
        "    current = q.popleft()\n",
        "    point = current.pt\n",
        "\n",
        "    print(\"Goal Test on Node : \"+str(point.x)+\",\"+str(point.y))\n",
        "\n",
        "    if point.x == dest.x and point.y == dest.y:\n",
        "      return current\n",
        "\n",
        "    visited[point.x][point.y] = True\n",
        "\n",
        "    for i in range(0, 4):\n",
        "      arow = point.x + rowNum[i]\n",
        "      acol = point.y + colNum[i]\n",
        "      if isValid(arow, acol) and maze[arow][acol]!=0 and visited[arow][acol] is False:\n",
        "        newNode = queueNode(Point(arow, acol), current.dist+1)\n",
        "        q.append(newNode)\n",
        "  return -1\n"
      ],
      "metadata": {
        "id": "Cpem76UDKY6a"
      },
      "execution_count": 24,
      "outputs": []
    },
    {
      "cell_type": "code",
      "source": [
        "maze = [[1, 0, 1, 1, 1, 1, 0, 1, 1, 1 ],\n",
        "        [1, 0, 1, 0, 1, 1, 1, 0, 1, 1 ],\n",
        "        [1, 1, 1, 0, 1, 1, 0, 1, 0, 1 ],\n",
        "        [0, 0, 0, 0, 1, 0, 0, 0, 0, 1 ],\n",
        "        [1, 1, 1, 0, 1, 1, 1, 0, 1, 0 ],\n",
        "        [1, 0, 1, 1, 1, 1, 0, 1, 0, 0 ],\n",
        "        [1, 0, 0, 0, 0, 0, 0, 0, 0, 1 ],\n",
        "        [1, 0, 1, 1, 1, 1, 0, 1, 1, 1 ],\n",
        "        [1, 1, 0, 0, 0, 0, 1, 0, 0, 1 ]];\n",
        "\n",
        "maze = [[1, 0, 0, 0],\n",
        "        [1, 1, 0, 1],\n",
        "        [0, 1, 0, 0],\n",
        "        [1, 1, 1, 1]]\n",
        "BFS(maze, Point(0,0), Point(3,3))\n",
        "print(\"\\n\\n\\n\\n\")\n",
        "shortestPathInMazeDFS(maze, Point(0,0), Point(3,3))"
      ],
      "metadata": {
        "colab": {
          "base_uri": "https://localhost:8080/"
        },
        "id": "Ch87tQo4eBFL",
        "outputId": "12428bb0-ca1a-4331-81c9-bddb30d0f15b"
      },
      "execution_count": 26,
      "outputs": [
        {
          "output_type": "stream",
          "name": "stdout",
          "text": [
            "Goal Test on Node : 0,0\n",
            "Goal Test on Node : 1,0\n",
            "Goal Test on Node : 1,1\n",
            "Goal Test on Node : 2,1\n",
            "Goal Test on Node : 3,1\n",
            "Goal Test on Node : 3,0\n",
            "Goal Test on Node : 3,2\n",
            "Goal Test on Node : 3,3\n",
            "\n",
            "\n",
            "\n",
            "\n",
            "\n",
            "Goal Test on Node : 0,0\n",
            "Goal Test on Node : 1,0\n",
            "Goal Test on Node : 1,1\n",
            "Goal Test on Node : 2,1\n",
            "Goal Test on Node : 3,1\n",
            "Goal Test on Node : 3,2\n",
            "Goal Test on Node : 3,3\n"
          ]
        },
        {
          "output_type": "execute_result",
          "data": {
            "text/plain": [
              "<__main__.queueNode at 0x7f42a27307f0>"
            ]
          },
          "metadata": {},
          "execution_count": 26
        }
      ]
    },
    {
      "cell_type": "code",
      "source": [],
      "metadata": {
        "id": "fkdNATvUf4p6"
      },
      "execution_count": null,
      "outputs": []
    }
  ]
}